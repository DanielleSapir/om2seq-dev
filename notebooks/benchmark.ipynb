{
 "cells": [
  {
   "cell_type": "code",
   "execution_count": 1,
   "metadata": {},
   "outputs": [
    {
     "name": "stdout",
     "output_type": "stream",
     "text": [
      "/Users/user1/om2seq\n"
     ]
    }
   ],
   "source": [
    "%run init.ipynb"
   ]
  },
  {
   "cell_type": "code",
   "execution_count": 7,
   "metadata": {},
   "outputs": [
    {
     "name": "stdout",
     "output_type": "stream",
     "text": [
      "src/utils/dataset_tasks.py:27 BaseTask.__init__\n",
      "    name: 'BenchmarkTasks' (str) len=14\n",
      "    version: None (NoneType)\n",
      "    wandb_enabled: True (bool)\n",
      "    min_len: 50000 (int)\n",
      "    max_len: 200000 (int)\n",
      "    num_len: 2 (int)\n",
      "    ref_limit: 1 (int)\n",
      "    ref_emb_limit: 1 (int)\n",
      "    qry_limit: 1 (int)\n",
      "    length_min_delta: 10000 (int)\n",
      "    model_id_wandb_run_name: '6x4eh4s6' (str) len=8\n",
      "src/om2seq/benchmarks.py:68 BenchmarkTasks.compute_metrics\n",
      "    lengths: array([ 50000, 200000]) (ndarray) len=2\n",
      "src/utils/dataset_tasks.py:27 BaseTask.__init__\n",
      "    name: 'GenomeDataset' (str) len=13\n",
      "    version: None (NoneType)\n",
      "    num_threads: 10 (int)\n",
      "    local_dir: 'out' (str) len=3\n",
      "    cloud_dir: 'gs://ogm-project/out' (str) len=20\n",
      "    limit: None (NoneType)\n",
      "    raise_errors: False (bool)\n",
      "    fasta_file: 'gs://ogm-project/data/GCF_000001405.40_GRCh38.p14_genomic.fna' (str) len=61\n",
      "    pattern: 'CTTAAG' (str) len=6\n",
      "src/utils/dataset_tasks.py:179 DatasetTask._download\n",
      "    self: <om2seq.training_dataset.GenomeDataset object at 0x2c06db050> (GenomeDataset)\n",
      "    cloud_src: GSPath('gs://ogm-project/out/task=genome/limit=None/pattern=CTTAAG/dataset.parquet') (GSPath)\n",
      "    local_dst: PosixPath('out/task=genome/limit=None/pattern=CTTAAG/dataset.parquet') (PosixPath)\n",
      "src/utils/dataset_tasks.py:208 DatasetTask.load_from_file\n",
      "    self: <om2seq.training_dataset.GenomeDataset object at 0x2c06db050> (GenomeDataset)\n",
      "    local_file: PosixPath('out/task=genome/limit=None/pattern=CTTAAG/dataset.parquet') (PosixPath)\n"
     ]
    },
    {
     "name": "stderr",
     "output_type": "stream",
     "text": [
      "Found cached dataset parquet (/Users/user1/om2seq/out/cache/datasets/parquet/default-bd58d106dad9fc9c/0.0.0/14a00e99c0d15a23649d0db8944380ac81082d4b021f398733dd84f3a6c569a7)\n"
     ]
    },
    {
     "name": "stdout",
     "output_type": "stream",
     "text": [
      "src/utils/dataset_tasks.py:152 DatasetTask.load\n",
      "    self.load_from_file(self.local_file): (\n",
      "        Dataset({\n",
      "            features: ['positions', 'id'],\n",
      "            num_rows: 25\n",
      "        })\n",
      "    ) (Dataset) len=25\n",
      "src/utils/dataset_tasks.py:27 BaseTask.__init__\n",
      "    name: 'TrainingDataset' (str) len=15\n",
      "    qry_len: None (NoneType)\n",
      "    qry_batch_len: 200000 (int)\n",
      "    ref_len: 200000 (int)\n",
      "    ref_dtype: 'uint8' (str) len=5\n",
      "    image_scale: 320.0 (float)\n",
      "    bin_size: 320 (int)\n",
      "    locs_scale: 375.0 (float)\n",
      "    eval_dataset_size: 1000 (int)\n",
      "    min_len: 50000 (int)\n",
      "    max_len: 200000 (int)\n",
      "    lengths_seed: 0 (int)\n",
      "    sample_seed: 0 (int)\n",
      "src/utils/dataset_tasks.py:27 BaseTask.__init__\n",
      "    name: 'AlignedImagesDataset' (str) len=20\n",
      "    version: None (NoneType)\n",
      "    num_threads: 10 (int)\n",
      "    local_dir: 'out' (str) len=3\n",
      "    cloud_dir: 'gs://ogm-project/out' (str) len=20\n",
      "    limit: 10000 (int)\n",
      "    raise_errors: False (bool)\n",
      "    nominal_scale: 320.0 (float)\n",
      "    bnx_scale: 375.0 (float)\n",
      "src/utils/dataset_tasks.py:179 DatasetTask._download\n",
      "    self: <om2seq.training_dataset.AlignedImagesDataset object at 0x2c9ab4190> (AlignedImagesDataset)\n",
      "    cloud_src: GSPath('gs://ogm-project/out/task=aligned/limit=10000/dataset.parquet') (GSPath)\n",
      "    local_dst: PosixPath('out/task=aligned/limit=10000/dataset.parquet') (PosixPath)\n",
      "src/utils/dataset_tasks.py:208 DatasetTask.load_from_file\n",
      "    self: <om2seq.training_dataset.AlignedImagesDataset object at 0x2c9ab4190> (AlignedImagesDataset)\n",
      "    local_file: PosixPath('out/task=aligned/limit=10000/dataset.parquet') (PosixPath)\n"
     ]
    },
    {
     "name": "stderr",
     "output_type": "stream",
     "text": [
      "Found cached dataset parquet (/Users/user1/om2seq/out/cache/datasets/parquet/default-43673e62c5fa6ac9/0.0.0/14a00e99c0d15a23649d0db8944380ac81082d4b021f398733dd84f3a6c569a7)\n"
     ]
    },
    {
     "name": "stdout",
     "output_type": "stream",
     "text": [
      "src/utils/dataset_tasks.py:152 DatasetTask.load\n",
      "    self.load_from_file(self.local_file): (\n",
      "        Dataset({\n",
      "            features: ['query_positions', 'query_scale', 'reference_id', 'orientation', 'score', 'oriented_query',\n",
      "        'reference_indices', 'query_indices', 'image', 'XmapEntryID', 'QryContigID', 'RefContigID', 'QryStartPos',\n",
      "        'QryEndPos', 'RefStartPos', 'RefEndPos', 'Orientation', 'Confidence', 'HitEnum', 'QryLen', 'RefLen',\n",
      "        'LabelChannel', 'Alignment', 'MapWt', 'BNXLocalizations', 'AvgIntensity', 'ChipId', 'Column', 'EndFOV', 'EndX',\n",
      "        'EndY', 'Flowcell', 'GlobalScanNumber', 'Length', 'MoleculeID', 'NumberofLabels', 'OriginalMoleculeId', 'RunId',\n",
      "        'SNR', 'ScanDirection', 'ScanNumber', 'StartFOV', 'StartX', 'StartY'],\n",
      "            num_rows: 10000\n",
      "        })\n",
      "    ) (Dataset) len=10000\n",
      "src/om2seq/model.py:13 WandbRunData.__init__\n",
      "    wandb_run_name: '6x4eh4s6' (str) len=8\n"
     ]
    },
    {
     "name": "stderr",
     "output_type": "stream",
     "text": [
      "\u001b[34m\u001b[1mwandb\u001b[0m:   3 of 3 files downloaded.  \n"
     ]
    },
    {
     "name": "stdout",
     "output_type": "stream",
     "text": [
      "src/om2seq/model.py:19 WandbRunData.__init__\n",
      "    model_file: PosixPath('out/model/model.safetensors') (PosixPath)\n",
      "src/utils/dataset_tasks.py:27 BaseTask.__init__\n",
      "    name: 'RefEmbDatasetBuilder' (str) len=20\n",
      "    version: None (NoneType)\n",
      "    local_dir: 'out' (str) len=3\n",
      "    cloud_dir: 'gs://ogm-project/out' (str) len=20\n",
      "    limit: 1 (int)\n",
      "    raise_errors: False (bool)\n",
      "    model_id: '6x4eh4s6' (str) len=8\n",
      "    bin_size: 320 (int)\n",
      "    ref_len: 200000 (int)\n",
      "    ref_step: 320 (int)\n",
      "    faiss_device: None (NoneType)\n",
      "    faiss_string_factory: None (NoneType)\n"
     ]
    },
    {
     "name": "stderr",
     "output_type": "stream",
     "text": [
      "create_dataset: 0it [00:00, ?it/s]\n",
      "x_embs_rolling: 100%|██████████| 1/1 [00:00<00:00, 32.84it/s]\n",
      "_iter_genome_embs: 100%|██████████| 1/1 [00:00<00:00, 28.71it/s]\n",
      "create_dataset: 1it [00:00, 27.45it/s]\n"
     ]
    },
    {
     "data": {
      "application/vnd.jupyter.widget-view+json": {
       "model_id": "e42c576585f44fe3ac9ff3bc7d72840b",
       "version_major": 2,
       "version_minor": 0
      },
      "text/plain": [
       "  0%|          | 0/1 [00:00<?, ?it/s]"
      ]
     },
     "metadata": {},
     "output_type": "display_data"
    },
    {
     "name": "stdout",
     "output_type": "stream",
     "text": [
      "src/deepom/image_preprocessing.py:18 ImagePreprocessor.__init__\n",
      "    self.config: Config(\n",
      "        image_width=5,\n",
      "        pad_or_crop_length=None,\n",
      "        image_channel=0,\n",
      "        divisible_size=16,\n",
      "        min_spatial_size=32,\n",
      "        upsample='pixelshuffle',\n",
      "        unet_channel_divider=1,\n",
      "        out_channels=4,\n",
      "        model_file='src/deepom/deepom.pt',\n",
      "        device='cpu',\n",
      "        unet_features=[\n",
      "            32,\n",
      "            32,\n",
      "            64,\n",
      "            128,\n",
      "            256,\n",
      "            32,\n",
      "        ],\n",
      "    ) (Config)\n",
      "BasicUNet features: (32, 32, 64, 128, 256, 32).\n",
      "src/deepom/aligner.py:43 DeepOMAligner.__init__\n",
      "    self.config: Config(\n",
      "        loc_factor=500,\n",
      "        skip_r_factor=10,\n",
      "        skip_q_factor=10,\n",
      "        dp_band_size=5,\n",
      "        limit_ref_len=None,\n",
      "    ) (Config)\n",
      "src/utils/dataset_tasks.py:27 BaseTask.__init__\n",
      "    name: 'EvalOM2Seq' (str) len=10\n",
      "    qry_limit: 1 (int)\n",
      "    batch_size: 64 (int)\n",
      "src/utils/dataset_tasks.py:27 BaseTask.__init__\n",
      "    name: 'EvalDeepOM' (str) len=10\n",
      "    version: None (NoneType)\n",
      "    num_threads: 10 (int)\n",
      "    qry_limit: 1 (int)\n",
      "    nominal_scale: 320.0 (float)\n"
     ]
    },
    {
     "name": "stderr",
     "output_type": "stream",
     "text": [
      "inference_batched: 100%|██████████| 1/1 [00:00<00:00, 33.14it/s]"
     ]
    },
    {
     "name": "stdout",
     "output_type": "stream",
     "text": [
      "faiss search: 0.000s elapsed\n"
     ]
    },
    {
     "name": "stderr",
     "output_type": "stream",
     "text": [
      "\n",
      "deepom_preprocess: 100%|██████████| 1/1 [00:00<00:00, 83.63it/s]\n",
      "compute_metrics: 100%|██████████| 1/1 [00:00<00:00,  6.74it/s]\n"
     ]
    },
    {
     "name": "stdout",
     "output_type": "stream",
     "text": [
      "src/utils/dataset_tasks.py:27 BaseTask.__init__\n",
      "    name: 'EvalOM2Seq' (str) len=10\n",
      "    qry_limit: 1 (int)\n",
      "    batch_size: 64 (int)\n",
      "src/utils/dataset_tasks.py:27 BaseTask.__init__\n",
      "    name: 'EvalDeepOM' (str) len=10\n",
      "    version: None (NoneType)\n",
      "    num_threads: 10 (int)\n",
      "    qry_limit: 1 (int)\n",
      "    nominal_scale: 320.0 (float)\n"
     ]
    },
    {
     "name": "stderr",
     "output_type": "stream",
     "text": [
      "inference_batched: 100%|██████████| 1/1 [00:00<00:00, 30.98it/s]"
     ]
    },
    {
     "name": "stdout",
     "output_type": "stream",
     "text": [
      "faiss search: 0.000s elapsed\n"
     ]
    },
    {
     "name": "stderr",
     "output_type": "stream",
     "text": [
      "\n",
      "deepom_preprocess: 100%|██████████| 1/1 [00:00<00:00, 83.13it/s]\n",
      "compute_metrics: 100%|██████████| 1/1 [00:00<00:00,  2.16it/s]\n"
     ]
    }
   ],
   "source": [
    "from om2seq.benchmarks import *\n",
    "m = BenchmarkTasks(ref_limit=1, ref_emb_limit=1, qry_limit=1, num_len=2).compute_metrics()"
   ]
  },
  {
   "cell_type": "code",
   "execution_count": 8,
   "metadata": {},
   "outputs": [
    {
     "data": {
      "text/html": [
       "<div>\n",
       "<style scoped>\n",
       "    .dataframe tbody tr th:only-of-type {\n",
       "        vertical-align: middle;\n",
       "    }\n",
       "\n",
       "    .dataframe tbody tr th {\n",
       "        vertical-align: top;\n",
       "    }\n",
       "\n",
       "    .dataframe thead th {\n",
       "        text-align: right;\n",
       "    }\n",
       "</style>\n",
       "<table border=\"1\" class=\"dataframe\">\n",
       "  <thead>\n",
       "    <tr style=\"text-align: right;\">\n",
       "      <th></th>\n",
       "      <th>qry_len</th>\n",
       "      <th>OM2Seq_accuracy</th>\n",
       "      <th>OM2Seq_num_correct</th>\n",
       "      <th>OM2Seq_num_total</th>\n",
       "      <th>DeepOM_accuracy</th>\n",
       "      <th>DeepOM_num_correct</th>\n",
       "      <th>DeepOM_num_total</th>\n",
       "    </tr>\n",
       "  </thead>\n",
       "  <tbody>\n",
       "    <tr>\n",
       "      <th>0</th>\n",
       "      <td>50000</td>\n",
       "      <td>0.0</td>\n",
       "      <td>0</td>\n",
       "      <td>1</td>\n",
       "      <td>1.0</td>\n",
       "      <td>1</td>\n",
       "      <td>1</td>\n",
       "    </tr>\n",
       "    <tr>\n",
       "      <th>1</th>\n",
       "      <td>200000</td>\n",
       "      <td>0.0</td>\n",
       "      <td>0</td>\n",
       "      <td>1</td>\n",
       "      <td>1.0</td>\n",
       "      <td>1</td>\n",
       "      <td>1</td>\n",
       "    </tr>\n",
       "  </tbody>\n",
       "</table>\n",
       "</div>"
      ],
      "text/plain": [
       "   qry_len  OM2Seq_accuracy  OM2Seq_num_correct  OM2Seq_num_total  \\\n",
       "0    50000              0.0                   0                 1   \n",
       "1   200000              0.0                   0                 1   \n",
       "\n",
       "   DeepOM_accuracy  DeepOM_num_correct  DeepOM_num_total  \n",
       "0              1.0                   1                 1  \n",
       "1              1.0                   1                 1  "
      ]
     },
     "execution_count": 8,
     "metadata": {},
     "output_type": "execute_result"
    }
   ],
   "source": [
    "m"
   ]
  },
  {
   "cell_type": "code",
   "execution_count": 3,
   "metadata": {},
   "outputs": [],
   "source": [
    "from dotenv import load_dotenv\n",
    "load_dotenv('./.env.local')\n",
    "\n",
    "# from om2seq.training_dataset import *\n",
    "from om2seq.train import *\n",
    "import pandas as pd\n",
    "from matplotlib import pyplot as plt"
   ]
  },
  {
   "cell_type": "code",
   "execution_count": 36,
   "metadata": {},
   "outputs": [],
   "source": [
    "from om2seq.benchmarks import *"
   ]
  },
  {
   "cell_type": "code",
   "execution_count": 43,
   "metadata": {},
   "outputs": [
    {
     "name": "stderr",
     "output_type": "stream",
     "text": [
      "\u001b[34m\u001b[1mwandb\u001b[0m:   1 of 1 files downloaded.  \n"
     ]
    },
    {
     "data": {
      "image/png": "[encoded data removed]",
      "text/plain": [
       "<Figure size 640x480 with 1 Axes>"
      ]
     },
     "metadata": {},
     "output_type": "display_data"
    }
   ],
   "source": [
    "BenchmarkTasks.plot_benchmark(run_id='spi2kmsx')"
   ]
  }
 ],
 "metadata": {
  "kernelspec": {
   "display_name": ".venv",
   "language": "python",
   "name": "python3"
  },
  "language_info": {
   "codemirror_mode": {
    "name": "ipython",
    "version": 3
   },
   "file_extension": ".py",
   "mimetype": "text/x-python",
   "name": "python",
   "nbconvert_exporter": "python",
   "pygments_lexer": "ipython3",
   "version": "3.11.5"
  }
 },
 "nbformat": 4,
 "nbformat_minor": 2
}
